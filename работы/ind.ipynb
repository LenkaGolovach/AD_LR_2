{
 "cells": [
  {
   "cell_type": "markdown",
   "metadata": {},
   "source": [
    "У нас есть список студентов с их оценками, и мы хотим рассчитать средний балл и определить, сколько студентов получили балл выше среднего. Для этой задачи мы можем использовать объект Series из библиотеки Pandas."
   ]
  },
  {
   "cell_type": "code",
   "execution_count": 1,
   "metadata": {},
   "outputs": [
    {
     "name": "stdout",
     "output_type": "stream",
     "text": [
      "Средний балл студентов: 87.6\n",
      "Количество студентов с баллом выше среднего: 3\n",
      "Студенты с баллом выше среднего:\n",
      " Петр         92\n",
      "Иван         95\n",
      "Екатерина    88\n",
      "dtype: int64\n"
     ]
    }
   ],
   "source": [
    "import pandas as pd\n",
    "\n",
    "# Создаем словарь с данными о студентах и их оценках\n",
    "student_data = {\n",
    "    'Имя': ['Анна', 'Петр', 'Мария', 'Иван', 'Екатерина'],\n",
    "    'Оценка': [85, 92, 78, 95, 88]\n",
    "}\n",
    "\n",
    "# Создаем объект Series на основе словаря\n",
    "student_series = pd.Series(student_data['Оценка'], index=student_data['Имя'])\n",
    "\n",
    "# Рассчитываем средний балл\n",
    "average_score = student_series.mean()\n",
    "\n",
    "# Определяем, сколько студентов получили балл выше среднего\n",
    "above_average = student_series[student_series > average_score]\n",
    "\n",
    "# Выводим результаты\n",
    "print(\"Средний балл студентов:\", average_score)\n",
    "print(\"Количество студентов с баллом выше среднего:\", len(above_average))\n",
    "print(\"Студенты с баллом выше среднего:\\n\", above_average)\n"
   ]
  }
 ],
 "metadata": {
  "kernelspec": {
   "display_name": "Python 3",
   "language": "python",
   "name": "python3"
  },
  "language_info": {
   "codemirror_mode": {
    "name": "ipython",
    "version": 3
   },
   "file_extension": ".py",
   "mimetype": "text/x-python",
   "name": "python",
   "nbconvert_exporter": "python",
   "pygments_lexer": "ipython3",
   "version": "3.11.6"
  }
 },
 "nbformat": 4,
 "nbformat_minor": 2
}
